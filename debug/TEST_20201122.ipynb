{
 "metadata": {
  "language_info": {
   "codemirror_mode": {
    "name": "ipython",
    "version": 3
   },
   "file_extension": ".py",
   "mimetype": "text/x-python",
   "name": "python",
   "nbconvert_exporter": "python",
   "pygments_lexer": "ipython3",
   "version": "3.7.3"
  },
  "orig_nbformat": 2,
  "kernelspec": {
   "name": "python373jvsc74a57bd0835271ae63aec19c58a5fde7b94ca2c5a0d3b61f7df3349bc5d949e9ddd57299",
   "display_name": "Python 3.7.3 64-bit ('base': conda)"
  }
 },
 "nbformat": 4,
 "nbformat_minor": 2,
 "cells": [
  {
   "cell_type": "code",
   "execution_count": 2,
   "metadata": {},
   "outputs": [],
   "source": [
    "testfolder = \"/Users/iwatano/Desktop/tmp_PRESUME/20201122_debug\" # <- specify a filepath for testing PRESUME\n",
    "PRESUME = \"/Users/iwatano/Desktop/Dev/yachielab/PRESUME/PRESUME.py\" # <- specify a filepath of PRESUME.py "
   ]
  },
  {
   "cell_type": "code",
   "execution_count": 3,
   "metadata": {},
   "outputs": [
    {
     "output_type": "stream",
     "name": "stdout",
     "text": [
      "\nusage: PRESUME.py [-h] [--param PARAM] [-V] [--monitor MONITOR] [-n N]\n                  [--tree TREE] [-L L] [-f F] [--polyC] [-d D] [-s S] [-T T]\n                  [-e E] [--gtrgamma GTRGAMMA] [-u U] [--ud UD] [--ld LD]\n                  [-m M] [--constant CONSTANT] [--output OUTPUT] [--qsub]\n                  [--idANC IDANC] [--tMorigin TMORIGIN] [--debug] [--bar]\n                  [--viewANC] [--save] [--CV] [-r R] [--seed SEED]\n                  [--inprob INPROB] [--inlength INLENGTH] [--delprob DELPROB]\n                  [--dellength DELLENGTH] [--indels INDELS] [--dop DOP]\n                  [--dist DIST] [--editprofile EDITPROFILE]\n\nPRESUME.py\n\noptional arguments:\n  -h, --help            show this help message and exit\n  --param PARAM         load argument file(csv file)\n  -V, --version\n  --monitor MONITOR     time limit (default=None)\n  -n N                  required number of sequences: if you specified this\n\n                        number of the sequence reach the specified number\n                        (default=1)\n  --tree TREE           file name of a guide tree in Newick format.\n  -L L                  length of sequence (default=1000)\n  -f F                  fasta file name　of the common ancestor sequence.\n                        (default: poly-C)\n  --polyC               use polyC sequence as root\n  -d D                  doubling time of origin sequence (default=1)\n  -s S                  sigma of doubling time of origin sequence (default=0)\n  -T T                  Threashold of doubling time to be deleted (default =\n                        1000)\n  -e E                  random deletion probability (default=0)\n  --gtrgamma GTRGAMMA   parameters for substitution rate matrix\n                        GTR{A-C/A-G/A-T/C-G/C-T/G-T} +FU{piA/piC/piG/piT}\n                        +G4{shape of gamma distribution} Or, you can use\n                        default parameters by \"--gtrgamma default\" default:\n                        GTR{0.3333/0.3333/0.3333/0.3333/0.3333/0.3333}\n                        +FU{0.25/0.25/0.25/0.25} +G4{10000}\n  -u U                  upper limit of number of sequences (default=2^20)\n  --ud UD               upper limit of doubling time (default=10^10)\n  --ld LD               lower limit of doubling time (default=10^(-5))\n  -m M                  mean of relative subtitution rate according to gamma\n                        distribution (default=1)\n  --constant CONSTANT   fixed mutation rate of each site (default=None)\n  --output OUTPUT       output folder (default:current directory)\n  --qsub                activate preparation for distributed processes\n                        (defalt=inactivated)\n  --idANC IDANC         corresponging ancestral sequence (in upstream tree),\n                        in case of distributed computing (default=None)\n  --tMorigin TMORIGIN   birth time of origin sequence\n  --debug               inactivate deletion of intermediate files\n  --bar                 deactivate unstable functions\n  --viewANC             generate fasta of ancestoral sequences\n  --save                generate args.csv\n  --CV                  sigma use as CV(Coefficient Variance) of Normal\n                        Distribution\n  -r R                  limit of retrying simulation (default=100000)\n  --seed SEED           random seed used to initialize the pseudo-random\n                        number generator\n  --inprob INPROB       file name of insertion probability for each position\n  --inlength INLENGTH   file name of insertion length distribution\n  --delprob DELPROB     file name of deletion probability for each position\n  --dellength DELLENGTH\n                        file name of insertion length distribution\n  --indels INDELS       file name of indels accumulated before simualtion (for\n                        distributed computing mode)\n  --dop DOP             Option of qsub for downstream simulation (for\n                        distributed computing mode)\n  --dist DIST           Distribution of d or 1/d (permissive values: 'norm',\n                        'lognorm', 'gamma', 'gamma2') (default: 'gamma2)\n  --editprofile EDITPROFILE\n                        file name of a base editing profile.\n\n"
     ]
    }
   ],
   "source": [
    "!python3 $PRESUME -h"
   ]
  },
  {
   "cell_type": "code",
   "execution_count": 5,
   "metadata": {},
   "outputs": [
    {
     "output_type": "stream",
     "name": "stdout",
     "text": [
      "Substitution rate matrix:\n",
      "[[-0.0249975  0.0083325  0.0083325  0.0083325]\n",
      " [ 0.0083325 -0.0249975  0.0083325  0.0083325]\n",
      " [ 0.0083325  0.0083325 -0.0249975  0.0083325]\n",
      " [ 0.0083325  0.0083325  0.0083325 -0.0249975]]\n",
      "\n",
      "######     ######     #######     #####     #     #    #     #    #######\n",
      "#     #    #     #    #          #     #    #     #    ##   ##    #\n",
      "#     #    #     #    #          #          #     #    # # # #    #\n",
      "######     ######     #####       #####     #     #    #  #  #    #####\n",
      "#          #   #      #                #    #     #    #     #    #\n",
      "#          #    #     #          #     #    #     #    #     #    #\n",
      "#          #     #    #######     #####      #####     #     #    #######\n",
      "Version:     1.0.0\n",
      "Last update: April 24, 2020\n",
      "GitHub:      https://github.com/yachielab/PRESUME\n",
      "\n",
      "Generating a FASTA file...\n",
      "Generating a Newick file......\n",
      "\n",
      "=====================================================\n",
      "Simulation end time point:         7.0\n",
      "Number of generated sequences:     128\n",
      "Seed for random number generation: 2431\n",
      "=====================================================\n",
      "\n",
      "Number of retrials: 1\n"
     ]
    }
   ],
   "source": [
    "out = \"{}/test_1\".format(testfolder)\n",
    "!python3 $PRESUME --output $out -n 100 --gtrgamma default --save "
   ]
  },
  {
   "cell_type": "code",
   "execution_count": null,
   "metadata": {},
   "outputs": [],
   "source": [
    "out = \"{}/test_2\".format(testfolder)\n",
    "!python3 $PRESUME --seed 0 -L 1000 -n 1000 -e 0.01 --gtrgamma default --output $out"
   ]
  },
  {
   "cell_type": "code",
   "execution_count": null,
   "metadata": {},
   "outputs": [],
   "source": [
    "out = \"{}/test_3\".format(testfolder)\n",
    "!python3 $PRESUME --seed 0 -L 1000 -n 1000 -s 0.1 --CV --gtrgamma default --output $out"
   ]
  },
  {
   "cell_type": "code",
   "execution_count": null,
   "metadata": {},
   "outputs": [],
   "source": [
    "out = \"{}/test_4\".format(testfolder)\n",
    "inprob = \"/Users/iwatano/Desktop/tmp_PRESUME/20201122_debug/test_4/prob.txt\"\n",
    "length = \"/Users/iwatano/Desktop/tmp_PRESUME/20201122_debug/test_4/length.txt\"\n",
    "!python3 $PRESUME -n 100 --seed 0 --output $out --inprob $inprob --inlength $length  --delprob $inprob --dellength $length --gtrgamma default\n"
   ]
  },
  {
   "cell_type": "code",
   "execution_count": null,
   "metadata": {},
   "outputs": [],
   "source": [
    "out = \"{}/test_5\".format(testfolder)\n",
    "test_input = \"/Users/iwatano/Desktop/tmp_PRESUME/20201122_debug/test_5/test_input.csv\"\n",
    "!python3 $PRESUME -n 100 --seed 0 --output $out --editprofile $test_input"
   ]
  },
  {
   "cell_type": "code",
   "execution_count": null,
   "metadata": {},
   "outputs": [],
   "source": [
    "out = \"{}/test_6\".format(testfolder)\n",
    "!python3 $PRESUME --seed 0 -L 1000 -n 1000 --constant 0.1 --output $out --qsub --debug"
   ]
  },
  {
   "cell_type": "code",
   "execution_count": null,
   "metadata": {},
   "outputs": [],
   "source": [
    "out = \"{}/tmp_06\".format(testfolder)\n",
    "!python3 $PRESUME --monitor 12.0 -L 1000 -d 1.0 -s 0 -T 1000 -e 0 -u 1048576 --idANC 32 --tMorigin 5.0 --seed 3972 --dist gamma2 --constant 0.1 --output $out\n"
   ]
  },
  {
   "cell_type": "code",
   "execution_count": null,
   "metadata": {},
   "outputs": [],
   "source": [
    "import numpy as np\n",
    "def sub_mat_parser(infile):\n",
    "\n",
    "        # substitution matrix\n",
    "        # = [\n",
    "        # A: [AtoA, AtoT, AtoG, AtoC]\n",
    "        # C: [CtoA, CtoT, CtoG, CtoC]\n",
    "        # G: [GtoA, GtoT, GtoG, GtoC]\n",
    "        # T: [TtoA, TtoT, TtoG, TtoC]\n",
    "        # ] * L\n",
    "\n",
    "        base = {'A': 0, 'C': 1, 'G': 2, 'T': 3}\n",
    "\n",
    "        with open(infile, 'r') as handle:\n",
    "            \n",
    "            row = 0\n",
    "            for line in handle:\n",
    "\n",
    "                if (row == 0):\n",
    "                    \n",
    "                    substitution_prob_matrix = np.zeros((1000, 4, 4))\n",
    "                \n",
    "                else:\n",
    "\n",
    "                    transition = line.split(\",\")[0] # eg. 'CT'\n",
    "                    prob_list  = [float(prob_str) for prob_str in line.split(\",\")[1:]]\n",
    "\n",
    "                    for pos, prob in enumerate(prob_list):\n",
    "\n",
    "                        if (pos < 1000):\n",
    "                            substitution_prob_matrix[pos][base[transition[0]]][base[transition[1]]] = prob\n",
    "                        else:\n",
    "                            print(\"args_reader.py: Edit profile assumes longer sequence than the actual sequence length\")\n",
    "                            sys.exit(1)\n",
    "\n",
    "                row       += 1\n",
    "        \n",
    "        for pos in range(1000):\n",
    "            \n",
    "            for i in range(4):\n",
    "\n",
    "                change_prob = 0\n",
    "                for j in range(4):\n",
    "                    if (i != j):\n",
    "                        change_prob += substitution_prob_matrix[pos, i, j] \n",
    "\n",
    "                if (change_prob > 1):\n",
    "                    print(\"args_reader.py: Editing probability > 1!\")\n",
    "                    sys.exit(1)\n",
    "\n",
    "                substitution_prob_matrix[pos, i, i] = 1 - change_prob\n",
    "        \n",
    "        #for matrix in substitution_prob_matrix:\n",
    "        #    print (matrix)\n",
    "        return substitution_prob_matrix\n",
    "\n",
    "submat = sub_mat_parser(\"/Users/iwatano/Desktop/Dev/yachielab/PRESUME/example/example_5/transition_probability\")"
   ]
  },
  {
   "cell_type": "code",
   "execution_count": null,
   "metadata": {},
   "outputs": [],
   "source": []
  }
 ]
}